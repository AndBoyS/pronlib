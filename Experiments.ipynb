{
 "cells": [
  {
   "cell_type": "code",
   "execution_count": 1,
   "id": "d7ab9be7",
   "metadata": {
    "pycharm": {
     "name": "#%%\n"
    }
   },
   "outputs": [],
   "source": [
    "import re\n",
    "import json\n",
    "from pathlib import Path"
   ]
  },
  {
   "cell_type": "code",
   "execution_count": 21,
   "id": "ec6c53ad",
   "metadata": {
    "pycharm": {
     "name": "#%%\n"
    },
    "scrolled": false
   },
   "outputs": [
    {
     "name": "stdout",
     "output_type": "stream",
     "text": [
      "aboba/\n",
      "├── Photos/\n",
      "│   ├── 1 Honoo Haramase Appli (5)/\n",
      "│   ├── 2 M1 (5)/\n",
      "│   │   ├── 1 Blade Play/\n",
      "│   │   ├── 2 Maoo Wonderful/\n",
      "│   │   ├── 3 Scarlet princess Rias Daisuki/\n",
      "│   │   ├── 4 Maple drips/\n",
      "│   │   └── 5 Ikinari Kozukuri/\n",
      "│   ├── 3 M2 (6)/\n",
      "│   │   ├── 1 Man x Koi/\n",
      "│   │   ├── 2 Real Intention/\n",
      "│   │   ├── 3 Masou Gakuen HxH/\n",
      "│   │   ├── 4 COMIC Kairakuten BEAST 2017-07/\n",
      "│   │   ├── 5 Maid in Enterprise (Azur Lane)/\n",
      "│   │   └── 6 Evolution of Morisummer/\n",
      "│   ├── 4 M3 (6)/\n",
      "│   │   ├── 1 Takane ga Mizugi ni Kikaetara/\n",
      "│   │   ├── 2 Tennen Tenshi no XX Ressun/\n",
      "│   │   ├── 3 Chichiiro Toiki/\n",
      "│   │   ├── 4 Chichiiro Toiki/\n",
      "│   │   ├── 5 Shirayukijou no Cheerleading/\n",
      "│   │   └── 6 Giri Giri Sister/\n",
      "│   ├── 5 М4 (6)/\n",
      "│   │   ├── 1 Shirasaka-sensei de Nukou/\n",
      "│   │   ├── 2 Harumeki Cool Girl/\n",
      "│   │   ├── 4 Nyuunai Shabaora/\n",
      "│   │   ├── 5 Amachichi Korikori and Paku Amatitty Squeeze And Fuck/\n",
      "│   │   └── 6 Tsuyo Kosu Advanced/\n",
      "│   ├── 6 M5 (6)/\n",
      "│   │   ├── 1 Double Lesson Okawari/\n",
      "│   │   ├── 2 Dual Shock/\n",
      "│   │   ├── 3 Namaiki Sugin zo Maid-sama/\n",
      "│   │   ├── 4 Two Hunters/\n",
      "│   │   ├── 5 Two Hunters/\n",
      "│   │   └── 6 Yum Yum Beach/\n",
      "│   ├── 7 M6 (6)/\n",
      "│   │   ├── 1 Chichi Koi! Oppai Emotion/\n",
      "│   │   ├── 2 Chichi Koi! Oppai Emotion/\n",
      "│   │   ├── 3 Chichi Koi! Oppai Emotion/\n",
      "│   │   ├── 4 ChichiKoi/\n",
      "│   │   ├── 5 Cool na Asobi/\n",
      "│   │   └── 6 Through Submission/\n",
      "│   ├── 8 M7 (6)/\n",
      "│   │   ├── 1 Nyuu Generation/\n",
      "│   │   ├── 2 Nyuu Generation/\n",
      "│   │   ├── 3 COMIC Kairakuten BEAST 2015-09/\n",
      "│   │   ├── 4 COMIC Kairakuten BEAST 2015-10/\n",
      "│   │   ├── 5 A Book Where Sanzou-chan's/\n",
      "│   │   └── 6 Sanzou-chan Lust Explosion/\n",
      "│   ├── 9 M8 (6)/\n",
      "│   │   ├── 1 Kyonyuu ga Nayami no Suiei Buin/\n",
      "│   │   ├── 2 COMIC Kairakuten BEAST 2017-02/\n",
      "│   │   ├── 3 MUCHI CHICHI/\n",
      "│   │   ├── 4 Tonari no Succubus-chan/\n",
      "│   │   ├── 5 Tonari no Succubus-chan/\n",
      "│   │   └── 6 Tonari no Succubus-chan/\n",
      "│   ├── 10 M9 (5)/\n",
      "│   │   ├── 1 Tenshi no Inu Mani/\n",
      "│   │   ├── 2 Tenshi no Inu Mani 2/\n",
      "│   │   ├── 3 Irregular Contact/\n",
      "│   │   ├── 4 Momo Piyo/\n",
      "│   │   └── 5 P-mating/\n",
      "│   ├── 11 M10 (5)/\n",
      "│   │   ├── 1 Zurichichi Haven/\n",
      "│   │   ├── 2 Zurichichi Haven/\n",
      "│   │   ├── 3 Zurichichi Haven/\n",
      "│   │   ├── 4 MUCHI CHICHI/\n",
      "│   │   └── 5 Hokorashiki Goshujin-sama/\n",
      "│   ├── 12 Shinmai 1 (6)/\n",
      "│   ├── 13 Shinmai 2 (6)/\n",
      "│   ├── 14 V1 (5)/\n",
      "│   │   ├── 1 Maji de Watashi ni Koishinasai/\n",
      "│   │   ├── 2 Seikishi Melty - Lovers/\n",
      "│   │   ├── 3 Seikishi Melty - Lovers/\n",
      "│   │   └── 4 Hoshi Ori Yume Mirai/\n",
      "│   ├── 15 V2 (5)/\n",
      "│   │   ├── 1 Lovely x Cation 2/\n",
      "│   │   ├── 2 Lovely x Cation 2/\n",
      "│   │   ├── 3 Honoo Isekai 1/\n",
      "│   │   ├── 4 Honoo Isekai 1/\n",
      "│   │   └── 5 Honoo Isekai 1/\n",
      "│   ├── 16 Honoo Isekai 2 (4)/\n",
      "│   ├── 17 Honoo Chou Appli 1 (4)/\n",
      "│   ├── 18 Honoo Chou Appli 2 (4)/\n",
      "│   └── 19 Honoo Succubus (5)/\n",
      "└── Videos/\n",
      "    ├── 19 Eroge! (3)/\n",
      "    │   ├── Eroge - 1.mp4\n",
      "    │   ├── Eroge - 2.mp4\n",
      "    │   └── Eroge - 3.mp4\n",
      "    ├── 20 Honoo no Oppai (4)/\n",
      "    │   ├── CHICHIIRO TOIKI.mp4\n",
      "    │   ├── Honoo no Haramase Oppai Ero Appli Gakuen - 1.mp4\n",
      "    │   ├── Honoo no Haramase Oppai Ero Appli Gakuen - 2.mp4\n",
      "    │   └── Joshi-ochi.mp4\n",
      "    ├── 21 Masou Fantasy (4)/\n",
      "    │   ├── KYONYUU FANTASY 1.mp4\n",
      "    │   ├── KYONYUU FANTASY 2.mp4\n",
      "    │   ├── Masou Gakuen.mp4\n",
      "    │   └── Shinmai - 1.mp4\n",
      "    ├── 22 No Name (4)/\n",
      "    │   ├── Tits 1.mp4\n",
      "    │   ├── Tits 2.mp4\n",
      "    │   ├── Tits 3.mp4\n",
      "    │   └── Tits 4.mp4\n",
      "    ├── 23 Love Paradise (3)/\n",
      "    │   ├── First Love.mp4\n",
      "    │   ├── Imouto Paradise 2.mp4\n",
      "    │   └── Sansha Mendan.mp4\n",
      "    └── 24 Oppai x Cation (3)/\n",
      "        ├── Lovely x Cation.mp4\n",
      "        ├── Oppai Gakuen Marching Band bu.mp4\n",
      "        └── Paizuri Cheerleader VS Sakunyuu Ouendan.mp4\n"
     ]
    }
   ],
   "source": [
    "class DisplayablePath(object):\n",
    "    display_filename_prefix_middle = '├──'\n",
    "    display_filename_prefix_last = '└──'\n",
    "    display_parent_prefix_middle = '    '\n",
    "    display_parent_prefix_last = '│   '\n",
    "\n",
    "    def __init__(self, path, parent_path, is_last):\n",
    "        self.path = Path(str(path))\n",
    "        self.parent = parent_path\n",
    "        self.is_last = is_last\n",
    "        if self.parent:\n",
    "            self.depth = self.parent.depth + 1\n",
    "        else:\n",
    "            self.depth = 0\n",
    "\n",
    "    @property\n",
    "    def displayname(self):\n",
    "        if self.path.is_dir():\n",
    "            return self.path.name + '/'\n",
    "        return self.path.name\n",
    "\n",
    "    @classmethod\n",
    "    def make_tree(cls, root, parent=None, is_last=False, criteria=None):\n",
    "        root = Path(str(root))\n",
    "        criteria = criteria or cls._default_criteria\n",
    "\n",
    "        displayable_root = cls(root, parent, is_last)\n",
    "        yield displayable_root\n",
    "\n",
    "        children = sorted(list(path\n",
    "                               for path in root.iterdir()\n",
    "                               if criteria(path)),\n",
    "                          key=lambda s: int(s.name.split()[0]) if s.name[0].isdigit() else str(s))\n",
    "        count = 1\n",
    "        for path in children:\n",
    "            is_last = count == len(children)\n",
    "            if path.is_dir():\n",
    "                yield from cls.make_tree(path,\n",
    "                                         parent=displayable_root,\n",
    "                                         is_last=is_last,\n",
    "                                         criteria=criteria)\n",
    "            else:\n",
    "                yield cls(path, displayable_root, is_last)\n",
    "            count += 1\n",
    "\n",
    "    @classmethod\n",
    "    def _default_criteria(cls, path):\n",
    "        return True\n",
    "\n",
    "    @property\n",
    "    def displayname(self):\n",
    "        if self.path.is_dir():\n",
    "            return self.path.name + '/'\n",
    "        return self.path.name\n",
    "\n",
    "    def displayable(self):\n",
    "        if self.parent is None:\n",
    "            return self.displayname\n",
    "\n",
    "        _filename_prefix = (self.display_filename_prefix_last\n",
    "                            if self.is_last\n",
    "                            else self.display_filename_prefix_middle)\n",
    "\n",
    "        parts = ['{!s} {!s}'.format(_filename_prefix,\n",
    "                                    self.displayname)]\n",
    "\n",
    "        parent = self.parent\n",
    "        while parent and parent.parent is not None:\n",
    "            parts.append(self.display_parent_prefix_middle\n",
    "                         if parent.is_last\n",
    "                         else self.display_parent_prefix_last)\n",
    "            parent = parent.parent\n",
    "\n",
    "        return ''.join(reversed(parts))\n",
    "\n",
    "def display_criteria(path):\n",
    "    criteria_list = [\n",
    "        path.name[0] != '.',\n",
    "        'jpg' not in path.name,\n",
    "        'json' not in path.name,\n",
    "    ]\n",
    "    return all(criteria_list)\n",
    "\n",
    "paths = DisplayablePath.make_tree(base_dir, \n",
    "                                  criteria=display_criteria)\n",
    "for path in paths:\n",
    "    print(path.displayable())"
   ]
  },
  {
   "cell_type": "code",
   "execution_count": 1,
   "id": "26d3156d",
   "metadata": {
    "pycharm": {
     "name": "#%%\n"
    }
   },
   "outputs": [],
   "source": [
    "import pandas as pd"
   ]
  },
  {
   "cell_type": "code",
   "execution_count": 15,
   "id": "15923078",
   "metadata": {
    "pycharm": {
     "name": "#%%\n"
    }
   },
   "outputs": [],
   "source": [
    "df = pd.read_excel('Specific Details.xlsx', sheet_name='Title')\n",
    "df.columns = [col.strip() for col in df.columns]\n",
    "df.set_index('#', inplace=True)"
   ]
  },
  {
   "cell_type": "code",
   "execution_count": 1,
   "metadata": {
    "collapsed": false,
    "pycharm": {
     "name": "#%%\n"
    }
   },
   "outputs": [],
   "source": [
    "import re"
   ]
  },
  {
   "cell_type": "code",
   "execution_count": 8,
   "metadata": {
    "collapsed": false,
    "pycharm": {
     "name": "#%%\n"
    }
   },
   "outputs": [
    {
     "data": {
      "text/plain": [
       "' oo'"
      ]
     },
     "execution_count": 8,
     "metadata": {},
     "output_type": "execute_result"
    }
   ],
   "source": [
    "re.sub(r'\\['+'aboba'+r']', '', '[aboba] oo')"
   ]
  },
  {
   "cell_type": "code",
   "execution_count": 9,
   "metadata": {
    "collapsed": false,
    "pycharm": {
     "name": "#%%\n"
    }
   },
   "outputs": [
    {
     "name": "stdout",
     "output_type": "stream",
     "text": [
      "/Users/user/Documents/aboba/Photos/7 M6 (6)/6 Romantic Etiquette for Dungeon Girls - Part 2 [Alto Seneka]/meta.json\n",
      "/Users/user/Documents/aboba/Photos/14 M12 (6)/4 [Ouma Tokiichi] ゆゆしとね/meta.json\n",
      "/Users/user/Documents/aboba/Photos/14 M12 (6)/2 [Ouma Tokiichi] Shuumatsu Koibito Yukarin/meta.json\n",
      "/Users/user/Documents/aboba/Photos/14 M12 (6)/5 [Tottoko Mtarou] Strength and III/meta.json\n",
      "/Users/user/Documents/aboba/Photos/14 M12 (6)/3 [Ouma Tokiichi] Yuyukon - Yuyuko-sama to Mecha Love Shinkon Seikatsu/meta.json\n",
      "/Users/user/Documents/aboba/Photos/14 M12 (6)/1 [Ouma Tokiichi] Aya shibori/meta.json\n",
      "/Users/user/Documents/aboba/Photos/14 M12 (6)/6 [Tousen] Reality Shock/meta.json\n",
      "/Users/user/Documents/aboba/Photos/12 M10 (6)/3 I Want to Flirt With Suzuya!! [Tonpuuratei]/meta.json\n",
      "/Users/user/Documents/aboba/Photos/12 M10 (6)/2 Hama-Pai [Shinozuka George]/meta.json\n",
      "/Users/user/Documents/aboba/Photos/12 M10 (6)/1 Flirty Lovin' with Suzuya! [Tonpuuratei]/meta.json\n",
      "/Users/user/Documents/aboba/Photos/12 M10 (6)/6 Urapai [Shinozuka George]/meta.json\n",
      "/Users/user/Documents/aboba/Photos/12 M10 (6)/4 Isuzu Breast Training Journal [Shinozuka George]/meta.json\n",
      "/Users/user/Documents/aboba/Photos/12 M10 (6)/5 Shoukaku to Motto Motto Ichaicha Shitai!! [Tonpuuratei]/meta.json\n",
      "/Users/user/Documents/aboba/Photos/4 M3 (6)/6 A Mature Confession [Shibananasei]/meta.json\n",
      "/Users/user/Documents/aboba/Photos/13 M11 (6)/1 Houshi Katsudou Labor of Love [YuKi-IRo]/meta.json\n",
      "/Users/user/Documents/aboba/Photos/13 M11 (6)/5 Seikatsu Shuukan 1 [Michiking]/meta.json\n",
      "/Users/user/Documents/aboba/Photos/13 M11 (6)/4 Saimin Gohoushi [YuKi-IRo]/meta.json\n",
      "/Users/user/Documents/aboba/Photos/13 M11 (6)/3 Maryoku Shibori [YuKi-IRo]/meta.json\n",
      "/Users/user/Documents/aboba/Photos/13 M11 (6)/2 Maryoku Hokyuuchuu [YuKi-IRo]/meta.json\n",
      "/Users/user/Documents/aboba/Photos/13 M11 (6)/6 Seikatsu Shuukan 2 [Michiking]/meta.json\n",
      "/Users/user/Documents/aboba/Photos/11 M12 (6)/3 Isekai Elf Hatsujou no Magan Horny Isekai Elf's Evil Eye [Aigamodou]/meta.json\n",
      "/Users/user/Documents/aboba/Photos/11 M12 (6)/6 Beachside Angel [kakao]/meta.json\n",
      "/Users/user/Documents/aboba/Photos/11 M12 (6)/2 Isekai Elf Hatsujou no Magan 3 [Aigamodou]/meta.json\n",
      "/Users/user/Documents/aboba/Photos/11 M12 (6)/4 Superbia no Amai Yoru [Akahito]/meta.json\n",
      "/Users/user/Documents/aboba/Photos/11 M12 (6)/1 Isekai Elf Hatsujou no Magan 2 -Makyou Hen- [Aigamodou]/meta.json\n",
      "/Users/user/Documents/aboba/Photos/11 M12 (6)/5 Superbia's Sweet Night 2 [Akahito]/meta.json\n",
      "/Users/user/Documents/aboba/Photos/9 M8 (6)/4 Tonari no Succubus-chan Gaiden [Derauea]/meta.json\n",
      "/Users/user/Documents/aboba/Photos/10 M9 (6)/6 Curse Eater Juso Kuraishi Ch. 1-2 [Rusty Soul]/meta.json\n",
      "/Users/user/Documents/aboba/Photos/15 M13 (4)/2 [Yahiro Pochi] Secret/meta.json\n",
      "/Users/user/Documents/aboba/Photos/15 M13 (4)/1 [Tsukitokage] Gratified Mastery/meta.json\n",
      "/Users/user/Documents/aboba/Photos/15 M13 (4)/4 [Yukiusagi ] Dwarf Musume Choukyou Kiroku/meta.json\n",
      "/Users/user/Documents/aboba/Photos/15 M13 (4)/3 [Yahiro Pochi] Sex Practice/meta.json\n",
      "/Users/user/Documents/aboba/Photos/5 М4 (6)/6 ToroToro BaniBani Horny Bunny [Akitsuki Karasu]/meta.json\n"
     ]
    }
   ],
   "source": [
    "from pathlib import Path\n",
    "\n",
    "base_dir = Path('/Users/user/Documents/aboba/Photos')\n",
    "for fp in base_dir.rglob('*.json'):\n",
    "    if '[' in fp.parent.name:\n",
    "        fp.unlionk"
   ]
  },
  {
   "cell_type": "code",
   "execution_count": null,
   "metadata": {
    "collapsed": false,
    "pycharm": {
     "name": "#%%\n"
    }
   },
   "outputs": [],
   "source": []
  }
 ],
 "metadata": {
  "kernelspec": {
   "display_name": "Python 3",
   "language": "python",
   "name": "python3"
  },
  "language_info": {
   "codemirror_mode": {
    "name": "ipython",
    "version": 3
   },
   "file_extension": ".py",
   "mimetype": "text/x-python",
   "name": "python",
   "nbconvert_exporter": "python",
   "pygments_lexer": "ipython3",
   "version": "3.8.8"
  }
 },
 "nbformat": 4,
 "nbformat_minor": 5
}
